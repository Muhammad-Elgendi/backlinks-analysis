{
  "nbformat": 4,
  "nbformat_minor": 0,
  "metadata": {
    "colab": {
      "name": "BacklinksAnalyser.ipynb",
      "provenance": [],
      "collapsed_sections": []
    },
    "kernelspec": {
      "name": "python3",
      "display_name": "Python 3"
    }
  },
  "cells": [
    {
      "cell_type": "markdown",
      "metadata": {
        "id": "67wb0BOROOaD",
        "colab_type": "text"
      },
      "source": [
        "Ways to improve the results of your current backlinks checker\n",
        "\n",
        "1. change google query to {\"domain\" -site: domain}  for example \"quantamixsolutions.com\" - site:quantamixsolutions.com\n",
        "2. then analyse found links using this script to find if there is an actual backlink or not\n",
        "\n"
      ]
    },
    {
      "cell_type": "markdown",
      "metadata": {
        "id": "QT4trUBcWu30",
        "colab_type": "text"
      },
      "source": [
        "**Metrics Info**\n",
        "\n",
        "\n",
        "> Metrics are contained in a dictionary\n",
        "\n",
        "\n",
        "* 'AlexaRankCountry': country name that site ranks in e.g.'United States',\n",
        "*  AlexaRank: site rank in the country '8',\n",
        "* 'AlexaRankCountryCode': ISO-code of the country that site ranks in e.g. 'US',\n",
        "* 'AlexaReach': Alexa reach metric e.g. '11',\n",
        "* 'AlexaTrafficRank': Alexa Global rank e.g. '13',\n",
        "* 'anchor_text': e.g.'Here’s a table',\n",
        "* 'anchor_type': it can be a text or image e.g. 'text',\n",
        "* 'country': country name of the site e.g. 'France',\n",
        "* 'countryCode': ISO code of country of the site' e.g. FR,\n",
        "* 'externalLinks': count of external links in the backlink page e.g. 30,\n",
        "* 'from_spam_heavy_country': is the site of backlink from spam-heavy country e.g. False,\n",
        "* 'hasManyBacklinks': is backlink page has many external links e.g. False,\n",
        "* 'ip': ipv4 address of the domain of this backlink e.g. '151.80.39.61',\n",
        "* 'is_doFollow': is this a dofollow backlink e.g. True,\n",
        "* 'is_exist': is backlink is actually in the page e.g. True,\n",
        "* 'target_url' : the url of the page that backlink targeting on your website\n",
        "* 'pagerank': page rank of domain conducted on common crawl web graph e.g. 9.54,\n",
        "* 'position': link position in the html page it can be 'body', 'footer' or 'header'\n",
        "* 'rank': rank for domain of backlink in common crawl web graph e.g.16,\n",
        "* 'status_code': Http status code for backlink e.g. 200\n",
        "\n",
        "\n"
      ]
    },
    {
      "cell_type": "code",
      "metadata": {
        "id": "kEmn4ei3mVIk",
        "colab_type": "code",
        "colab": {}
      },
      "source": [
        "# !! backlink quality is evaluated on a spectrum, not a binary.\n",
        "# it’s really quite rare for your site to have a link that meets more than just a couple of criteria.\n",
        "# Backlink quality needs to be evaluated both on an individual level and as part of your site’s overall backlink profile.\n",
        "# Existing tools that did the job already : https://kerboo.com/ , https://www.linkody.com/ , LinkResearchTools, semrush's Backlink Audit Tool , Majestic , \n",
        "#  Moz's link explorer ,Ahrefs\n",
        "'''\n",
        "✔️# is it a dofollow backlink ?\n",
        "\n",
        "✔️# is it within the body of the page ? (Link location)\n",
        "!!! A basic web page has 5 sections:\n",
        "\n",
        "✔️Header\n",
        "✔️Footer\n",
        "Right sidebar\n",
        "Left sidebar\n",
        "✔️Body content\n",
        "only links that appear within the body content of a page should be considered valuable to your SEO.\n",
        "The higher up a page a link appears, the more important it is to the content of the page and more valuable it is to the reader\n",
        "Therefore, those links will pass more value than links that occur lower in the article.\n",
        "\n",
        "\n",
        "✔️# is it from a high-quality website ? we can use open pr for this!\n",
        "# is it relevant to your topic in the target page ? (Linking page content relevance)\n",
        "\n",
        "# is it using relevant keywords within the anchor text ? (Anchor text relevance)\n",
        "(profile level) !!! having a link profile with nothing but keyword anchor text will likely end up hurting you more than helping.\n",
        "\n",
        "Linking page content quality\n",
        "Linking domain quality and relevance\n",
        "✔️IP address\n",
        "\n",
        "✔️Number of external links\n",
        "!!! Every link on a page distributes a portion of that page’s link juice, but not all links on a page send the same amount of value. \n",
        "The amount of link juice passed by a link is equal to a page’s total link juice divided by the total number of links on a page. Including all nofollow links\n",
        "a page with a lot of external links (200 or more generally) could look like a page that exists solely to sell backlinks, which will do more harm than good for SEO.\n",
        "!!! the links that appear surrounding the link to your page also impact its SEO value\n",
        "\n",
        "!!! take an especially close look for those that use the anchor text and text surrounding the links\n",
        "\n",
        "(profile level) Ideally, your website will have a mix of anchor texts including:\n",
        "1-Keyword-rich anchors\n",
        "2-Just your company, website or brand name\n",
        "3-Generic phrases like \"click here\" or “this page”.\n",
        "\n",
        "!!! How that page fits into the overall domain also plays a factor in how much link juice it passes through backlinks.\n",
        " Orphan pages (those with no internal links pointing to them) won’t be as valuable as non-orphan pages\n",
        " because they won’t pass any of the domain’s accumulated value.\n",
        "\n",
        "To evaluate page or domain quality, ask yourself these questions:\n",
        "Does the topic of the page match the topic or niche of the overall website? \n",
        "How aggressively is the content monetized? ( Articles full of affiliate links should warn you off )\n",
        "Is the site owner actually trying to help users?\n",
        "\n",
        "(profile level) Do a lot of your links come from the same IP address? \n",
        "✔️!!! You should also look out for IP addresses from spam-heavy countries like Russia, China or India if your business doesn’t operate there.\n",
        "\n",
        "(profile level) Is it a unique domain? ( The value of a single backlink diminishes as you acquire more links from a particular domain )\n",
        "✔️How \"far away\" is the linking domain from Google’s trusted seed sites? \n",
        "\n",
        "✔️Traffic (we can use alexa metrics)\n",
        "This won’t benefit your SEO all that much but still contributes to your overall marketing performance.\n",
        "\n",
        "'''"
      ],
      "execution_count": null,
      "outputs": []
    },
    {
      "cell_type": "code",
      "metadata": {
        "id": "bOo0hWk_Rbpy",
        "colab_type": "code",
        "colab": {}
      },
      "source": [
        "# prerequisites\n",
        "!pip install requests\n",
        "!pip install beautifulsoup4\n",
        "!pip install geoip2\n",
        "!pip install wordcloud"
      ],
      "execution_count": null,
      "outputs": []
    },
    {
      "cell_type": "code",
      "metadata": {
        "id": "ENR3ADf3_-r7",
        "colab_type": "code",
        "colab": {}
      },
      "source": [
        "# imports for this notebook\n",
        "import matplotlib.pyplot as plt\n",
        "import IPython"
      ],
      "execution_count": null,
      "outputs": []
    },
    {
      "cell_type": "code",
      "metadata": {
        "id": "_em_1KaLJKqd",
        "colab_type": "code",
        "colab": {}
      },
      "source": [
        "# required modules for the script\n",
        "import requests\n",
        "from bs4 import BeautifulSoup\n",
        "import socket\n",
        "from urllib.parse import urlparse\n",
        "import geoip2.database\n",
        "import json\n",
        "import pandas as pd\n",
        "from wordcloud import WordCloud, STOPWORDS\n",
        "import json\n",
        "import numpy as np"
      ],
      "execution_count": null,
      "outputs": []
    },
    {
      "cell_type": "code",
      "metadata": {
        "id": "6th_V-HrP9hX",
        "colab_type": "code",
        "colab": {}
      },
      "source": [
        "class BacklinksAnalyser:\n",
        "  def __init__(self,geoLite_db_path = None ,openprAPIKey = None):\n",
        "    # get country from ip using  maxmind geoip2 @ https://github.com/maxmind/GeoIP2-python\n",
        "    # !!! note you have to download GeoLite2-Country database\n",
        "    # This creates a Reader object. You should use the same object\n",
        "    # across multiple requests as creation of it is expensive.\n",
        "    self.reader = geoip2.database.Reader(geoLite_db_path)\n",
        "    self.openprAPIKey = openprAPIKey\n",
        "\n",
        "  def get_backlink_metrics(self,backlink,targetLink):\n",
        "    '''\n",
        "    Get all the metrics of a certain backlink\n",
        "    '''\n",
        "    # backlink metrics dictionary\n",
        "    metrics = {}\n",
        "    target_domain = urlparse(targetLink).netloc\n",
        "    backlink_domain = urlparse(backlink).netloc\n",
        "    page = requests.get(backlink)\n",
        "    soup = BeautifulSoup(page.text, 'html.parser')\n",
        "    metrics['status_code'] = page.status_code\n",
        "    metrics['backlink'] = page.url\n",
        "\n",
        "    # Do follow vs no follow\n",
        "    # check for X-Robots-Tag and robots meta tag\n",
        "    xrobots = page.headers.get('X-Robots-Tag')\n",
        "    metaRobots = soup.find('meta',  attrs={'name':'robots', 'content':True})\n",
        "    default_follow = True\n",
        "    if xrobots:  \n",
        "      if \"nofollow\" in xrobots or \"none\" in xrobots :\n",
        "        default_follow = False\n",
        "    if metaRobots:\n",
        "      if \"nofollow\" in metaRobots[\"content\"] or \"none\" in metaRobots[\"content\"]:\n",
        "        default_follow = False\n",
        "\n",
        "    metrics['is_doFollow'] = default_follow\n",
        "\n",
        "    # loop through links\n",
        "    metrics['is_exist'] = False\n",
        "    externalCounter = 0\n",
        "    for link in soup.find_all('a'):\n",
        "      if link.get(\"href\", None) == \"\" or link.get(\"href\", None) is None:\n",
        "        # href empty tag\n",
        "        continue\n",
        "      # count external links\n",
        "      if backlink_domain not in link.get(\"href\", None):\n",
        "        externalCounter+=1\n",
        "      # if target domain exist\n",
        "      if target_domain in link.get(\"href\", None):\n",
        "        # check if it's really a backlink not just a false positive \n",
        "        if urlparse(link.get(\"href\", None)).netloc == target_domain:\n",
        "          metrics['is_exist'] = True\n",
        "          metrics['target_url'] = link.get(\"href\", None)\n",
        "          metrics['position'] = 'body'\n",
        "          metrics['anchor_text'] = link.string\n",
        "          metrics['anchor_type'] = \"text\"\n",
        "          if link.find('img'):\n",
        "            metrics['anchor_type'] = \"image\"\n",
        "          if link.get(\"rel\",None) == \"nofollow\":\n",
        "            metrics['is_doFollow'] = False\n",
        "          if link.find_parent('footer'):\n",
        "            metrics['position'] = 'footer'\n",
        "          if link.find_parent('header'):\n",
        "            metrics['position'] = 'header'\n",
        "    # add external links count\n",
        "    metrics['externalLinks'] = externalCounter\n",
        "    metrics['hasManyBacklinks'] = externalCounter > 200\n",
        "    # get Ipv4 address\n",
        "    metrics['ip'] = socket.gethostbyname(backlink_domain)\n",
        "\n",
        "    if self.reader is not None:\n",
        "      # Replace \"city\" with the method corresponding to the database\n",
        "      # that you are using, e.g., \"country\".\n",
        "      response = self.reader.country(metrics['ip'])\n",
        "      metrics['countryCode'] = response.country.iso_code\n",
        "      metrics['country'] = response.country.name\n",
        "\n",
        "      # is IP address from spam-heavy countries like Russia, China or India ?\n",
        "      metrics['from_spam_heavy_country'] = False\n",
        "      if metrics['country'] == \"Russia\" or metrics['country'] == \"China\" or metrics['country'] == \"India\":\n",
        "        metrics['from_spam_heavy_country'] = True\n",
        "\n",
        "\n",
        "    if self.openprAPIKey is not None:\n",
        "      # is it from high authority site ? we can use either openpagerank or mozscape api\n",
        "      openPR = requests.get(\"https://openpagerank.com/api/v1.0/getPageRank\", params={'domains[]': backlink_domain},headers={\"API-OPR\":self.openprAPIKey})\n",
        "\n",
        "      # convert the response \n",
        "      pr = json.loads(openPR.text)\n",
        "\n",
        "      metrics['rank'] = pr['response'][0]['rank']\n",
        "      metrics['pagerank'] = pr['response'][0]['page_rank_decimal']\n",
        "\n",
        "    # alexa and traffic estimation\n",
        "    alexa = requests.get(\"http://data.alexa.com/data?cli=10&url=\"+backlink_domain)\n",
        "    soup = BeautifulSoup(alexa.text,'xml')\n",
        "    popularity = soup.find(\"POPULARITY\")\n",
        "    reach = soup.find(\"REACH\")\n",
        "    rank = soup.find(\"COUNTRY\")\n",
        "    if popularity:\n",
        "      metrics['AlexaTrafficRank'] =  popularity.get(\"TEXT\",None)\n",
        "    if reach:\n",
        "      metrics['AlexaReach'] = reach.get(\"RANK\",None)\n",
        "    if rank:\n",
        "      metrics['AlexaRank'] = rank.get(\"RANK\",None)\n",
        "      metrics['AlexaRankCountry'] = rank.get(\"NAME\",None)\n",
        "      metrics['AlexaRankCountryCode'] = rank.get(\"CODE\",None)  \n",
        "\n",
        "    return metrics\n",
        "\n",
        "  @staticmethod\n",
        "  def generate_analysis_summary(backlinks_df):\n",
        "    '''\n",
        "    generate analysis summary from backlinks dataframe\n",
        "    parameters :\n",
        "    backlinks_df : pandas dataframe that holds backlinks data\n",
        "    returns:\n",
        "    a dictionary that holds the computed analysis figures\n",
        "    '''\n",
        "\n",
        "    summary = {}\n",
        "\n",
        "    # get the count of alive backlinks\n",
        "    alive_backlinks = backlinks_df[backlinks_df['is_exist'] == True]\n",
        "    summary['alive_backlinks_count'] = alive_backlinks['backlink'].count()\n",
        "\n",
        "    # get backlinks opportunities count\n",
        "    summary['backlinks_opportunities_count'] = backlinks_df.shape[0] - summary['alive_backlinks_count']\n",
        "\n",
        "    # get http status code of backlinks\n",
        "    status_code = alive_backlinks['status_code'].value_counts().to_dict()\n",
        "    # make keys json vaild\n",
        "    summary['status_code']  = {'http_'+str(k) : v for k, v in status_code.items()}\n",
        "\n",
        "    # dofollow vs nofollow analysis\n",
        "    link_type = alive_backlinks['is_doFollow'].value_counts().rename(index={True: \"DoFollow\",False : \"NoFollow\"})\n",
        "    summary['follow_type'] = link_type.to_dict()\n",
        "\n",
        "    # compute dofollow percentage\n",
        "    summary['dofollow_percent'] = link_type['DoFollow'] / summary['alive_backlinks_count'] * 100\n",
        "\n",
        "    # backlinks postions\n",
        "    summary['postion'] = alive_backlinks['position'].value_counts().to_dict()\n",
        "    \n",
        "    # anchor types of backlinks\n",
        "    summary['anchor_type'] = alive_backlinks['anchor_type'].value_counts().to_dict()\n",
        "    \n",
        "    # countries of backlinks\n",
        "    countries = alive_backlinks['countryCode'].value_counts().to_dict()\n",
        "    # get full names of the countries\n",
        "    countries_names = {}\n",
        "    for country in countries:\n",
        "      countries_names[country] = alive_backlinks[alive_backlinks['countryCode'] == country]['country'].iloc[0]\n",
        "    \n",
        "    # create a list of countries for each backlink\n",
        "    countries_info = []\n",
        "    for country in countries:\n",
        "      country_info = {}\n",
        "      country_info['name'] = countries_names[country]\n",
        "      country_info['code'] = country\n",
        "      country_info['count'] = countries[country]\n",
        "      countries_info.append(country_info)\n",
        "\n",
        "    summary['countries'] = countries_info\n",
        "\n",
        "    # add referring domain feature\n",
        "    alive_backlinks['refer_domain'] = alive_backlinks['backlink'].apply(lambda x: urlparse(x).netloc)\n",
        "\n",
        "    # get the count of unique referring domains\n",
        "    summary['referring_domains_count'] = alive_backlinks['refer_domain'].unique().size\n",
        "    \n",
        "    # get the count of unique referring IPs\n",
        "    summary['referring_ips_count'] = alive_backlinks['ip'].unique().size\n",
        "\n",
        "    # create text for anychart tag cloud\n",
        "    # Create stopword list:\n",
        "    stopwords = set(STOPWORDS)\n",
        "    # create text\n",
        "    summary['anchor_text'] = \" \".join(term for term in alive_backlinks.anchor_text if term not in stopwords and len(term) > 1)\n",
        "    \n",
        "    return summary"
      ],
      "execution_count": 73,
      "outputs": []
    },
    {
      "cell_type": "code",
      "metadata": {
        "id": "0uzkmz3ibx32",
        "colab_type": "code",
        "colab": {}
      },
      "source": [
        "# backlinks analyser usage \n",
        "backlinks= [\n",
        "'https://raisedtoday.com/fr/soci%C3%A9t%C3%A9/quantamix-solutions',\n",
        "'https://themacmarketer.com/a-guide-to-top-10-ai-tools-and-techniques-in-seo-for-digital-marketing-quantamix-solutions',\n",
        "'https://crunchbase.com/organization/quantamix-solutions',\n",
        "'https://glassdoor.com/Jobs/Quantamix-Solutions-Amsterdam-Jobs-EI_IE2852604.0,19_IL.20,29_IM1112.htm',\n",
        "'https://glassdoor.com/Location/Quantamix-Solutions-Uithoorn-Location-EI_IE2852604.0,19_IL.20,28_IC3065372.htm',\n",
        "'https://angel.co/company/quantamix-solutions-1',\n",
        "'https://oblcc.com/quantamix',\n",
        "'https://zaubacorp.com/company/QUANTAMIX-SOLUTIONS-PRIVATE-LIMITED/U72200PN2019PTC181629',\n",
        "'https://glassdoor.com.au/Location/All-Quantamix-Solutions-Office-Locations-E2852604.htm',\n",
        "'https://commons.wikimedia.org/wiki/File:Quantamix_Solutions_Logo.png',\n",
        "'https://iamexpat.nl/career/jobs-netherlands/recruitment-agencies-and-companies/quantamix-solutions-bv',\n",
        "'https://graduateland.com/employer/jobs/quantamix-solutions-bv',\n",
        "'https://glassdoor.sg/Reviews/Quantamix-Solutions-Reviews-E2852604.htm',\n",
        "'https://europe-internship.com/employer/harish77kumar',\n",
        "'https://naukri.com/recruiter-job-listings-Python-Developer-Quantamix-Solutions-Pvt-Ltd-Bengaluru-Bangalore-Pune-Jaipur-2-to-4-years-7634208',\n",
        "'https://chemarc.com/companies/company_detail/quantamix-solutions-private-limited/U72200PN2019PTC181629',\n",
        "'https://cleartax.in/f/company/quantamix-solutions-private-limited/U72200PN2019PTC181629',\n",
        "'https://empowerednews.net/content-automation-ai-tools-market-detailed-swot-analysis-by-2027-quantamix-solutions-scoop-it-stats-llc-wordsmith-wordlift-srl/181672469',\n",
        "'https://hubspot.com/agencies/growack-com',\n",
        "'http://eurobankingonline.org'\n",
        "]\n",
        "\n",
        "analyser = BacklinksAnalyser('GeoLite2-Country.mmdb','so8gc48ccg8kkw04cwo04s4gcck4g8s0ck4s000k')\n",
        "target_website = 'https://quantamixsolutions.com/' \n",
        "\n",
        "# initialize backlinks dataframe\n",
        "backlinks_df = pd.DataFrame(columns=['backlink','status_code', 'is_doFollow', 'is_exist', 'target_url', 'position',\n",
        "       'anchor_text', 'anchor_type', 'externalLinks', 'hasManyBacklinks', 'ip',\n",
        "       'countryCode', 'country', 'from_spam_heavy_country', 'rank', 'pagerank',\n",
        "       'AlexaTrafficRank', 'AlexaReach', 'AlexaRank', 'AlexaRankCountry',\n",
        "       'AlexaRankCountryCode'])\n"
      ],
      "execution_count": 74,
      "outputs": []
    },
    {
      "cell_type": "code",
      "metadata": {
        "id": "MEP0Y3thk8gw",
        "colab_type": "code",
        "colab": {}
      },
      "source": [
        "# populate backlinks dataframe\n",
        "for backlink in backlinks:\n",
        "  metrics = analyser.get_backlink_metrics(backlink,target_website)\n",
        "  backlinks_df = backlinks_df.append(metrics, ignore_index = True)"
      ],
      "execution_count": null,
      "outputs": []
    },
    {
      "cell_type": "code",
      "metadata": {
        "id": "AYY8Git9tu9v",
        "colab_type": "code",
        "colab": {}
      },
      "source": [
        "# save backlinks_df into csv fole\n",
        "backlinks_df.to_csv('backlinks.csv',index=False)"
      ],
      "execution_count": null,
      "outputs": []
    },
    {
      "cell_type": "code",
      "metadata": {
        "id": "vemxQObZe4O3",
        "colab_type": "code",
        "colab": {
          "base_uri": "https://localhost:8080/",
          "height": 309
        },
        "outputId": "31edef38-2843-4467-ecca-15650e1c07b1"
      },
      "source": [
        "# load backlinks_df from csv\n",
        "backlinks_df = pd.read_csv('backlinks.csv')\n",
        "backlinks_df.head()"
      ],
      "execution_count": 75,
      "outputs": [
        {
          "output_type": "execute_result",
          "data": {
            "text/html": [
              "<div>\n",
              "<style scoped>\n",
              "    .dataframe tbody tr th:only-of-type {\n",
              "        vertical-align: middle;\n",
              "    }\n",
              "\n",
              "    .dataframe tbody tr th {\n",
              "        vertical-align: top;\n",
              "    }\n",
              "\n",
              "    .dataframe thead th {\n",
              "        text-align: right;\n",
              "    }\n",
              "</style>\n",
              "<table border=\"1\" class=\"dataframe\">\n",
              "  <thead>\n",
              "    <tr style=\"text-align: right;\">\n",
              "      <th></th>\n",
              "      <th>backlink</th>\n",
              "      <th>status_code</th>\n",
              "      <th>is_doFollow</th>\n",
              "      <th>is_exist</th>\n",
              "      <th>target_url</th>\n",
              "      <th>position</th>\n",
              "      <th>anchor_text</th>\n",
              "      <th>anchor_type</th>\n",
              "      <th>externalLinks</th>\n",
              "      <th>hasManyBacklinks</th>\n",
              "      <th>ip</th>\n",
              "      <th>countryCode</th>\n",
              "      <th>country</th>\n",
              "      <th>from_spam_heavy_country</th>\n",
              "      <th>rank</th>\n",
              "      <th>pagerank</th>\n",
              "      <th>AlexaTrafficRank</th>\n",
              "      <th>AlexaReach</th>\n",
              "      <th>AlexaRank</th>\n",
              "      <th>AlexaRankCountry</th>\n",
              "      <th>AlexaRankCountryCode</th>\n",
              "    </tr>\n",
              "  </thead>\n",
              "  <tbody>\n",
              "    <tr>\n",
              "      <th>0</th>\n",
              "      <td>https://www.raisedtoday.com/fr/soci%C3%A9t%C3%...</td>\n",
              "      <td>200</td>\n",
              "      <td>True</td>\n",
              "      <td>True</td>\n",
              "      <td>https://quantamixsolutions.com/</td>\n",
              "      <td>body</td>\n",
              "      <td>\\n\\t\\t\\t\\t\\t\\t\\t\\t\\t\\tquantamixsolutions.com/\\...</td>\n",
              "      <td>text</td>\n",
              "      <td>97</td>\n",
              "      <td>False</td>\n",
              "      <td>104.24.120.60</td>\n",
              "      <td>US</td>\n",
              "      <td>United States</td>\n",
              "      <td>False</td>\n",
              "      <td>115552367</td>\n",
              "      <td>0.55</td>\n",
              "      <td>682345.0</td>\n",
              "      <td>606448.0</td>\n",
              "      <td>176382.0</td>\n",
              "      <td>India</td>\n",
              "      <td>IN</td>\n",
              "    </tr>\n",
              "    <tr>\n",
              "      <th>1</th>\n",
              "      <td>https://themacmarketer.com/a-guide-to-top-10-a...</td>\n",
              "      <td>200</td>\n",
              "      <td>True</td>\n",
              "      <td>True</td>\n",
              "      <td>https://quantamixsolutions.com/blog/40/ai-tool...</td>\n",
              "      <td>body</td>\n",
              "      <td>A Guide to Top 10 AI tools and techniques in S...</td>\n",
              "      <td>text</td>\n",
              "      <td>15</td>\n",
              "      <td>False</td>\n",
              "      <td>94.237.79.108</td>\n",
              "      <td>SG</td>\n",
              "      <td>Singapore</td>\n",
              "      <td>False</td>\n",
              "      <td>19583346</td>\n",
              "      <td>2.13</td>\n",
              "      <td>5726678.0</td>\n",
              "      <td>5201003.0</td>\n",
              "      <td>NaN</td>\n",
              "      <td>NaN</td>\n",
              "      <td>NaN</td>\n",
              "    </tr>\n",
              "    <tr>\n",
              "      <th>2</th>\n",
              "      <td>https://www.crunchbase.com/organization/quanta...</td>\n",
              "      <td>403</td>\n",
              "      <td>True</td>\n",
              "      <td>False</td>\n",
              "      <td>NaN</td>\n",
              "      <td>NaN</td>\n",
              "      <td>NaN</td>\n",
              "      <td>NaN</td>\n",
              "      <td>1</td>\n",
              "      <td>False</td>\n",
              "      <td>104.22.63.68</td>\n",
              "      <td>US</td>\n",
              "      <td>United States</td>\n",
              "      <td>False</td>\n",
              "      <td>1229</td>\n",
              "      <td>6.35</td>\n",
              "      <td>3984.0</td>\n",
              "      <td>5170.0</td>\n",
              "      <td>948.0</td>\n",
              "      <td>United States</td>\n",
              "      <td>US</td>\n",
              "    </tr>\n",
              "    <tr>\n",
              "      <th>3</th>\n",
              "      <td>https://www.glassdoor.com/Jobs/Quantamix-Solut...</td>\n",
              "      <td>403</td>\n",
              "      <td>True</td>\n",
              "      <td>False</td>\n",
              "      <td>NaN</td>\n",
              "      <td>NaN</td>\n",
              "      <td>NaN</td>\n",
              "      <td>NaN</td>\n",
              "      <td>0</td>\n",
              "      <td>False</td>\n",
              "      <td>104.17.91.51</td>\n",
              "      <td>US</td>\n",
              "      <td>United States</td>\n",
              "      <td>False</td>\n",
              "      <td>2022</td>\n",
              "      <td>6.15</td>\n",
              "      <td>447.0</td>\n",
              "      <td>479.0</td>\n",
              "      <td>127.0</td>\n",
              "      <td>United States</td>\n",
              "      <td>US</td>\n",
              "    </tr>\n",
              "    <tr>\n",
              "      <th>4</th>\n",
              "      <td>https://www.glassdoor.com/Location/Quantamix-S...</td>\n",
              "      <td>403</td>\n",
              "      <td>True</td>\n",
              "      <td>False</td>\n",
              "      <td>NaN</td>\n",
              "      <td>NaN</td>\n",
              "      <td>NaN</td>\n",
              "      <td>NaN</td>\n",
              "      <td>0</td>\n",
              "      <td>False</td>\n",
              "      <td>104.17.91.51</td>\n",
              "      <td>US</td>\n",
              "      <td>United States</td>\n",
              "      <td>False</td>\n",
              "      <td>2022</td>\n",
              "      <td>6.15</td>\n",
              "      <td>447.0</td>\n",
              "      <td>479.0</td>\n",
              "      <td>127.0</td>\n",
              "      <td>United States</td>\n",
              "      <td>US</td>\n",
              "    </tr>\n",
              "  </tbody>\n",
              "</table>\n",
              "</div>"
            ],
            "text/plain": [
              "                                            backlink  ...  AlexaRankCountryCode\n",
              "0  https://www.raisedtoday.com/fr/soci%C3%A9t%C3%...  ...                    IN\n",
              "1  https://themacmarketer.com/a-guide-to-top-10-a...  ...                   NaN\n",
              "2  https://www.crunchbase.com/organization/quanta...  ...                    US\n",
              "3  https://www.glassdoor.com/Jobs/Quantamix-Solut...  ...                    US\n",
              "4  https://www.glassdoor.com/Location/Quantamix-S...  ...                    US\n",
              "\n",
              "[5 rows x 21 columns]"
            ]
          },
          "metadata": {
            "tags": []
          },
          "execution_count": 75
        }
      ]
    },
    {
      "cell_type": "code",
      "metadata": {
        "id": "6rTtmslSCnSE",
        "colab_type": "code",
        "colab": {
          "base_uri": "https://localhost:8080/",
          "height": 1000
        },
        "outputId": "64fc04d3-9e3c-4a81-d9c6-58524ef68f68"
      },
      "source": [
        "# render backlinks table\n",
        "IPython.display.HTML(backlinks_df.to_html(index=False))"
      ],
      "execution_count": null,
      "outputs": [
        {
          "output_type": "execute_result",
          "data": {
            "text/html": [
              "<table border=\"1\" class=\"dataframe\">\n",
              "  <thead>\n",
              "    <tr style=\"text-align: right;\">\n",
              "      <th>backlink</th>\n",
              "      <th>status_code</th>\n",
              "      <th>is_doFollow</th>\n",
              "      <th>is_exist</th>\n",
              "      <th>target_url</th>\n",
              "      <th>position</th>\n",
              "      <th>anchor_text</th>\n",
              "      <th>anchor_type</th>\n",
              "      <th>externalLinks</th>\n",
              "      <th>hasManyBacklinks</th>\n",
              "      <th>ip</th>\n",
              "      <th>countryCode</th>\n",
              "      <th>country</th>\n",
              "      <th>from_spam_heavy_country</th>\n",
              "      <th>rank</th>\n",
              "      <th>pagerank</th>\n",
              "      <th>AlexaTrafficRank</th>\n",
              "      <th>AlexaReach</th>\n",
              "      <th>AlexaRank</th>\n",
              "      <th>AlexaRankCountry</th>\n",
              "      <th>AlexaRankCountryCode</th>\n",
              "    </tr>\n",
              "  </thead>\n",
              "  <tbody>\n",
              "    <tr>\n",
              "      <td>https://www.raisedtoday.com/fr/soci%C3%A9t%C3%A9/quantamix-solutions</td>\n",
              "      <td>200</td>\n",
              "      <td>True</td>\n",
              "      <td>True</td>\n",
              "      <td>https://quantamixsolutions.com/</td>\n",
              "      <td>body</td>\n",
              "      <td>\\n\\t\\t\\t\\t\\t\\t\\t\\t\\t\\tquantamixsolutions.com/\\n\\t\\t\\t\\t\\t\\t\\t\\t\\t</td>\n",
              "      <td>text</td>\n",
              "      <td>97</td>\n",
              "      <td>False</td>\n",
              "      <td>104.24.120.60</td>\n",
              "      <td>US</td>\n",
              "      <td>United States</td>\n",
              "      <td>False</td>\n",
              "      <td>115552367</td>\n",
              "      <td>0.55</td>\n",
              "      <td>682345</td>\n",
              "      <td>606448</td>\n",
              "      <td>176382</td>\n",
              "      <td>India</td>\n",
              "      <td>IN</td>\n",
              "    </tr>\n",
              "    <tr>\n",
              "      <td>https://themacmarketer.com/a-guide-to-top-10-ai-tools-and-techniques-in-seo-for-digital-marketing-quantamix-solutions/</td>\n",
              "      <td>200</td>\n",
              "      <td>True</td>\n",
              "      <td>True</td>\n",
              "      <td>https://quantamixsolutions.com/blog/40/ai-tools-and-techniques-in-seo-for-affiliate-marketing</td>\n",
              "      <td>body</td>\n",
              "      <td>A Guide to Top 10 AI tools and techniques in SEO for Digital Marketing | Quantamix Solutions</td>\n",
              "      <td>text</td>\n",
              "      <td>15</td>\n",
              "      <td>False</td>\n",
              "      <td>94.237.79.108</td>\n",
              "      <td>SG</td>\n",
              "      <td>Singapore</td>\n",
              "      <td>False</td>\n",
              "      <td>19583346</td>\n",
              "      <td>2.13</td>\n",
              "      <td>5726678</td>\n",
              "      <td>5201003</td>\n",
              "      <td>NaN</td>\n",
              "      <td>NaN</td>\n",
              "      <td>NaN</td>\n",
              "    </tr>\n",
              "    <tr>\n",
              "      <td>https://www.crunchbase.com/organization/quantamix-solutions</td>\n",
              "      <td>403</td>\n",
              "      <td>True</td>\n",
              "      <td>False</td>\n",
              "      <td>NaN</td>\n",
              "      <td>NaN</td>\n",
              "      <td>NaN</td>\n",
              "      <td>NaN</td>\n",
              "      <td>1</td>\n",
              "      <td>False</td>\n",
              "      <td>104.22.63.68</td>\n",
              "      <td>US</td>\n",
              "      <td>United States</td>\n",
              "      <td>False</td>\n",
              "      <td>1229</td>\n",
              "      <td>6.35</td>\n",
              "      <td>3984</td>\n",
              "      <td>5170</td>\n",
              "      <td>948</td>\n",
              "      <td>United States</td>\n",
              "      <td>US</td>\n",
              "    </tr>\n",
              "    <tr>\n",
              "      <td>https://www.glassdoor.com/Jobs/Quantamix-Solutions-Amsterdam-Jobs-EI_IE2852604.0,19_IL.20,29_IM1112.htm</td>\n",
              "      <td>403</td>\n",
              "      <td>True</td>\n",
              "      <td>False</td>\n",
              "      <td>NaN</td>\n",
              "      <td>NaN</td>\n",
              "      <td>NaN</td>\n",
              "      <td>NaN</td>\n",
              "      <td>0</td>\n",
              "      <td>False</td>\n",
              "      <td>104.17.91.51</td>\n",
              "      <td>US</td>\n",
              "      <td>United States</td>\n",
              "      <td>False</td>\n",
              "      <td>2022</td>\n",
              "      <td>6.15</td>\n",
              "      <td>447</td>\n",
              "      <td>479</td>\n",
              "      <td>127</td>\n",
              "      <td>United States</td>\n",
              "      <td>US</td>\n",
              "    </tr>\n",
              "    <tr>\n",
              "      <td>https://www.glassdoor.com/Location/Quantamix-Solutions-Uithoorn-Location-EI_IE2852604.0,19_IL.20,28_IC3065372.htm</td>\n",
              "      <td>403</td>\n",
              "      <td>True</td>\n",
              "      <td>False</td>\n",
              "      <td>NaN</td>\n",
              "      <td>NaN</td>\n",
              "      <td>NaN</td>\n",
              "      <td>NaN</td>\n",
              "      <td>0</td>\n",
              "      <td>False</td>\n",
              "      <td>104.17.91.51</td>\n",
              "      <td>US</td>\n",
              "      <td>United States</td>\n",
              "      <td>False</td>\n",
              "      <td>2022</td>\n",
              "      <td>6.15</td>\n",
              "      <td>447</td>\n",
              "      <td>479</td>\n",
              "      <td>127</td>\n",
              "      <td>United States</td>\n",
              "      <td>US</td>\n",
              "    </tr>\n",
              "    <tr>\n",
              "      <td>https://angel.co/company/quantamix-solutions-1</td>\n",
              "      <td>403</td>\n",
              "      <td>False</td>\n",
              "      <td>False</td>\n",
              "      <td>NaN</td>\n",
              "      <td>NaN</td>\n",
              "      <td>NaN</td>\n",
              "      <td>NaN</td>\n",
              "      <td>1</td>\n",
              "      <td>False</td>\n",
              "      <td>104.18.24.39</td>\n",
              "      <td>US</td>\n",
              "      <td>United States</td>\n",
              "      <td>False</td>\n",
              "      <td>10550</td>\n",
              "      <td>5.71</td>\n",
              "      <td>6197</td>\n",
              "      <td>7161</td>\n",
              "      <td>2574</td>\n",
              "      <td>United States</td>\n",
              "      <td>US</td>\n",
              "    </tr>\n",
              "    <tr>\n",
              "      <td>https://oblcc.com/quantamix</td>\n",
              "      <td>200</td>\n",
              "      <td>True</td>\n",
              "      <td>False</td>\n",
              "      <td>NaN</td>\n",
              "      <td>NaN</td>\n",
              "      <td>NaN</td>\n",
              "      <td>NaN</td>\n",
              "      <td>19</td>\n",
              "      <td>False</td>\n",
              "      <td>198.49.23.145</td>\n",
              "      <td>US</td>\n",
              "      <td>United States</td>\n",
              "      <td>False</td>\n",
              "      <td>3118963</td>\n",
              "      <td>3.46</td>\n",
              "      <td>NaN</td>\n",
              "      <td>NaN</td>\n",
              "      <td>NaN</td>\n",
              "      <td>NaN</td>\n",
              "      <td>NaN</td>\n",
              "    </tr>\n",
              "    <tr>\n",
              "      <td>https://www.zaubacorp.com/company/QUANTAMIX-SOLUTIONS-PRIVATE-LIMITED/U72200PN2019PTC181629</td>\n",
              "      <td>200</td>\n",
              "      <td>True</td>\n",
              "      <td>False</td>\n",
              "      <td>NaN</td>\n",
              "      <td>NaN</td>\n",
              "      <td>NaN</td>\n",
              "      <td>NaN</td>\n",
              "      <td>27</td>\n",
              "      <td>False</td>\n",
              "      <td>13.235.181.248</td>\n",
              "      <td>IN</td>\n",
              "      <td>India</td>\n",
              "      <td>True</td>\n",
              "      <td>255974</td>\n",
              "      <td>4.48</td>\n",
              "      <td>6479</td>\n",
              "      <td>6258</td>\n",
              "      <td>527</td>\n",
              "      <td>India</td>\n",
              "      <td>IN</td>\n",
              "    </tr>\n",
              "    <tr>\n",
              "      <td>https://www.glassdoor.com.au/Location/All-Quantamix-Solutions-Office-Locations-E2852604.htm</td>\n",
              "      <td>403</td>\n",
              "      <td>True</td>\n",
              "      <td>False</td>\n",
              "      <td>NaN</td>\n",
              "      <td>NaN</td>\n",
              "      <td>NaN</td>\n",
              "      <td>NaN</td>\n",
              "      <td>0</td>\n",
              "      <td>False</td>\n",
              "      <td>104.16.203.90</td>\n",
              "      <td>US</td>\n",
              "      <td>United States</td>\n",
              "      <td>False</td>\n",
              "      <td>838534</td>\n",
              "      <td>4.20</td>\n",
              "      <td>24755</td>\n",
              "      <td>23915</td>\n",
              "      <td>326</td>\n",
              "      <td>Australia</td>\n",
              "      <td>AU</td>\n",
              "    </tr>\n",
              "    <tr>\n",
              "      <td>https://commons.wikimedia.org/wiki/File:Quantamix_Solutions_Logo.png</td>\n",
              "      <td>200</td>\n",
              "      <td>True</td>\n",
              "      <td>False</td>\n",
              "      <td>NaN</td>\n",
              "      <td>NaN</td>\n",
              "      <td>NaN</td>\n",
              "      <td>NaN</td>\n",
              "      <td>80</td>\n",
              "      <td>False</td>\n",
              "      <td>208.80.154.224</td>\n",
              "      <td>US</td>\n",
              "      <td>United States</td>\n",
              "      <td>False</td>\n",
              "      <td>68</td>\n",
              "      <td>8.02</td>\n",
              "      <td>325</td>\n",
              "      <td>294</td>\n",
              "      <td>302</td>\n",
              "      <td>United States</td>\n",
              "      <td>US</td>\n",
              "    </tr>\n",
              "    <tr>\n",
              "      <td>https://www.iamexpat.nl/career/jobs-netherlands/recruitment-agencies-and-companies/quantamix-solutions-bv</td>\n",
              "      <td>200</td>\n",
              "      <td>True</td>\n",
              "      <td>False</td>\n",
              "      <td>NaN</td>\n",
              "      <td>NaN</td>\n",
              "      <td>NaN</td>\n",
              "      <td>NaN</td>\n",
              "      <td>254</td>\n",
              "      <td>True</td>\n",
              "      <td>159.69.245.13</td>\n",
              "      <td>DE</td>\n",
              "      <td>Germany</td>\n",
              "      <td>False</td>\n",
              "      <td>111324</td>\n",
              "      <td>4.72</td>\n",
              "      <td>111922</td>\n",
              "      <td>91775</td>\n",
              "      <td>89781</td>\n",
              "      <td>India</td>\n",
              "      <td>IN</td>\n",
              "    </tr>\n",
              "    <tr>\n",
              "      <td>https://graduateland.com/employer/jobs/quantamix-solutions-bv</td>\n",
              "      <td>200</td>\n",
              "      <td>True</td>\n",
              "      <td>False</td>\n",
              "      <td>NaN</td>\n",
              "      <td>NaN</td>\n",
              "      <td>NaN</td>\n",
              "      <td>NaN</td>\n",
              "      <td>80</td>\n",
              "      <td>False</td>\n",
              "      <td>54.76.82.221</td>\n",
              "      <td>IE</td>\n",
              "      <td>Ireland</td>\n",
              "      <td>False</td>\n",
              "      <td>1587133</td>\n",
              "      <td>3.80</td>\n",
              "      <td>158285</td>\n",
              "      <td>149472</td>\n",
              "      <td>NaN</td>\n",
              "      <td>NaN</td>\n",
              "      <td>NaN</td>\n",
              "    </tr>\n",
              "    <tr>\n",
              "      <td>https://www.glassdoor.sg/Reviews/Quantamix-Solutions-Reviews-E2852604.htm</td>\n",
              "      <td>403</td>\n",
              "      <td>True</td>\n",
              "      <td>False</td>\n",
              "      <td>NaN</td>\n",
              "      <td>NaN</td>\n",
              "      <td>NaN</td>\n",
              "      <td>NaN</td>\n",
              "      <td>0</td>\n",
              "      <td>False</td>\n",
              "      <td>104.16.95.86</td>\n",
              "      <td>US</td>\n",
              "      <td>United States</td>\n",
              "      <td>False</td>\n",
              "      <td>941731</td>\n",
              "      <td>4.08</td>\n",
              "      <td>18218</td>\n",
              "      <td>18869</td>\n",
              "      <td>108</td>\n",
              "      <td>Singapore</td>\n",
              "      <td>SG</td>\n",
              "    </tr>\n",
              "    <tr>\n",
              "      <td>https://europe-internship.com/employer/harish77kumar/</td>\n",
              "      <td>200</td>\n",
              "      <td>True</td>\n",
              "      <td>False</td>\n",
              "      <td>NaN</td>\n",
              "      <td>NaN</td>\n",
              "      <td>NaN</td>\n",
              "      <td>NaN</td>\n",
              "      <td>12</td>\n",
              "      <td>False</td>\n",
              "      <td>82.98.139.204</td>\n",
              "      <td>ES</td>\n",
              "      <td>Spain</td>\n",
              "      <td>False</td>\n",
              "      <td>5054452</td>\n",
              "      <td>3.09</td>\n",
              "      <td>1063529</td>\n",
              "      <td>957090</td>\n",
              "      <td>NaN</td>\n",
              "      <td>NaN</td>\n",
              "      <td>NaN</td>\n",
              "    </tr>\n",
              "    <tr>\n",
              "      <td>https://www.naukri.com/recruiter-job-listings-Python-Developer-Quantamix-Solutions-Pvt-Ltd-Bengaluru-Bangalore-Pune-Jaipur-2-to-4-years-7634208</td>\n",
              "      <td>200</td>\n",
              "      <td>True</td>\n",
              "      <td>False</td>\n",
              "      <td>NaN</td>\n",
              "      <td>NaN</td>\n",
              "      <td>NaN</td>\n",
              "      <td>NaN</td>\n",
              "      <td>64</td>\n",
              "      <td>False</td>\n",
              "      <td>54.251.103.25</td>\n",
              "      <td>SG</td>\n",
              "      <td>Singapore</td>\n",
              "      <td>False</td>\n",
              "      <td>71227</td>\n",
              "      <td>5.06</td>\n",
              "      <td>449</td>\n",
              "      <td>602</td>\n",
              "      <td>38</td>\n",
              "      <td>India</td>\n",
              "      <td>IN</td>\n",
              "    </tr>\n",
              "    <tr>\n",
              "      <td>https://www.chemarc.com/companies/company_detail/quantamix-solutions-private-limited/U72200PN2019PTC181629</td>\n",
              "      <td>200</td>\n",
              "      <td>True</td>\n",
              "      <td>False</td>\n",
              "      <td>NaN</td>\n",
              "      <td>NaN</td>\n",
              "      <td>NaN</td>\n",
              "      <td>NaN</td>\n",
              "      <td>50</td>\n",
              "      <td>False</td>\n",
              "      <td>35.240.242.143</td>\n",
              "      <td>None</td>\n",
              "      <td>None</td>\n",
              "      <td>False</td>\n",
              "      <td>14064885</td>\n",
              "      <td>2.35</td>\n",
              "      <td>414452</td>\n",
              "      <td>369582</td>\n",
              "      <td>44798</td>\n",
              "      <td>India</td>\n",
              "      <td>IN</td>\n",
              "    </tr>\n",
              "    <tr>\n",
              "      <td>https://cleartax.in/f/company/quantamix-solutions-private-limited/U72200PN2019PTC181629</td>\n",
              "      <td>200</td>\n",
              "      <td>True</td>\n",
              "      <td>False</td>\n",
              "      <td>NaN</td>\n",
              "      <td>NaN</td>\n",
              "      <td>NaN</td>\n",
              "      <td>NaN</td>\n",
              "      <td>35</td>\n",
              "      <td>False</td>\n",
              "      <td>13.226.50.6</td>\n",
              "      <td>US</td>\n",
              "      <td>United States</td>\n",
              "      <td>False</td>\n",
              "      <td>104602</td>\n",
              "      <td>4.75</td>\n",
              "      <td>2236</td>\n",
              "      <td>2157</td>\n",
              "      <td>154</td>\n",
              "      <td>India</td>\n",
              "      <td>IN</td>\n",
              "    </tr>\n",
              "    <tr>\n",
              "      <td>https://empowerednews.net/content-automation-ai-tools-market-detailed-swot-analysis-by-2027-quantamix-solutions-scoop-it-stats-llc-wordsmith-wordlift-srl/181672469/</td>\n",
              "      <td>200</td>\n",
              "      <td>True</td>\n",
              "      <td>False</td>\n",
              "      <td>NaN</td>\n",
              "      <td>NaN</td>\n",
              "      <td>NaN</td>\n",
              "      <td>NaN</td>\n",
              "      <td>6</td>\n",
              "      <td>False</td>\n",
              "      <td>172.67.165.194</td>\n",
              "      <td>US</td>\n",
              "      <td>United States</td>\n",
              "      <td>False</td>\n",
              "      <td>785344</td>\n",
              "      <td>4.22</td>\n",
              "      <td>289833</td>\n",
              "      <td>372685</td>\n",
              "      <td>29770</td>\n",
              "      <td>India</td>\n",
              "      <td>IN</td>\n",
              "    </tr>\n",
              "    <tr>\n",
              "      <td>https://www.hubspot.com/agencies/growack-com</td>\n",
              "      <td>200</td>\n",
              "      <td>True</td>\n",
              "      <td>False</td>\n",
              "      <td>NaN</td>\n",
              "      <td>NaN</td>\n",
              "      <td>NaN</td>\n",
              "      <td>NaN</td>\n",
              "      <td>0</td>\n",
              "      <td>False</td>\n",
              "      <td>104.19.155.83</td>\n",
              "      <td>US</td>\n",
              "      <td>United States</td>\n",
              "      <td>False</td>\n",
              "      <td>1907</td>\n",
              "      <td>6.17</td>\n",
              "      <td>728</td>\n",
              "      <td>1034</td>\n",
              "      <td>366</td>\n",
              "      <td>United States</td>\n",
              "      <td>US</td>\n",
              "    </tr>\n",
              "    <tr>\n",
              "      <td>http://eurobankingonline.org/</td>\n",
              "      <td>403</td>\n",
              "      <td>True</td>\n",
              "      <td>False</td>\n",
              "      <td>NaN</td>\n",
              "      <td>NaN</td>\n",
              "      <td>NaN</td>\n",
              "      <td>NaN</td>\n",
              "      <td>0</td>\n",
              "      <td>False</td>\n",
              "      <td>185.135.241.56</td>\n",
              "      <td>NL</td>\n",
              "      <td>Netherlands</td>\n",
              "      <td>False</td>\n",
              "      <td>41291075</td>\n",
              "      <td>1.75</td>\n",
              "      <td>NaN</td>\n",
              "      <td>NaN</td>\n",
              "      <td>NaN</td>\n",
              "      <td>NaN</td>\n",
              "      <td>NaN</td>\n",
              "    </tr>\n",
              "  </tbody>\n",
              "</table>"
            ],
            "text/plain": [
              "<IPython.core.display.HTML object>"
            ]
          },
          "metadata": {
            "tags": []
          },
          "execution_count": 77
        }
      ]
    },
    {
      "cell_type": "code",
      "metadata": {
        "id": "_h0dxGT1bXmq",
        "colab_type": "code",
        "colab": {
          "base_uri": "https://localhost:8080/",
          "height": 343
        },
        "outputId": "08596e77-57bd-4e23-a718-c01ca8854fee"
      },
      "source": [
        "# get summary of backlinks analysis\n",
        "summary = analyser.generate_analysis_summary(backlinks_df)\n",
        "summary"
      ],
      "execution_count": 76,
      "outputs": [
        {
          "output_type": "stream",
          "text": [
            "/usr/local/lib/python3.6/dist-packages/ipykernel_launcher.py:166: SettingWithCopyWarning: \n",
            "A value is trying to be set on a copy of a slice from a DataFrame.\n",
            "Try using .loc[row_indexer,col_indexer] = value instead\n",
            "\n",
            "See the caveats in the documentation: https://pandas.pydata.org/pandas-docs/stable/user_guide/indexing.html#returning-a-view-versus-a-copy\n"
          ],
          "name": "stderr"
        },
        {
          "output_type": "execute_result",
          "data": {
            "text/plain": [
              "{'alive_backlinks_count': 2,\n",
              " 'anchor_text': '\\n\\t\\t\\t\\t\\t\\t\\t\\t\\t\\tquantamixsolutions.com/\\n\\t\\t\\t\\t\\t\\t\\t\\t\\t A Guide to Top 10 AI tools and techniques in SEO for Digital Marketing | Quantamix Solutions',\n",
              " 'anchor_type': {'text': 2},\n",
              " 'backlinks_opportunities_count': 18,\n",
              " 'countries': [{'code': 'SG', 'count': 1, 'name': 'Singapore'},\n",
              "  {'code': 'US', 'count': 1, 'name': 'United States'}],\n",
              " 'dofollow_percent': 100.0,\n",
              " 'follow_type': {'DoFollow': 2},\n",
              " 'postion': {'body': 2},\n",
              " 'referring_domains_count': 2,\n",
              " 'referring_ips_count': 2,\n",
              " 'status_code': {'http_200': 2}}"
            ]
          },
          "metadata": {
            "tags": []
          },
          "execution_count": 76
        }
      ]
    },
    {
      "cell_type": "code",
      "metadata": {
        "id": "5vb5pTvIqUfs",
        "colab_type": "code",
        "colab": {
          "base_uri": "https://localhost:8080/",
          "height": 125
        },
        "outputId": "608300db-1910-4ed1-a68a-cbb07e4774ec"
      },
      "source": [
        "# convert summary to json\n",
        "summary_txt = str(summary)\n",
        "json_acceptable = summary_txt.replace(\"'\", \"\\\"\")\n",
        "json.dumps(json_acceptable)"
      ],
      "execution_count": 77,
      "outputs": [
        {
          "output_type": "execute_result",
          "data": {
            "application/vnd.google.colaboratory.intrinsic+json": {
              "type": "string"
            },
            "text/plain": [
              "'\"{\\\\\"alive_backlinks_count\\\\\": 2, \\\\\"backlinks_opportunities_count\\\\\": 18, \\\\\"status_code\\\\\": {\\\\\"http_200\\\\\": 2}, \\\\\"follow_type\\\\\": {\\\\\"DoFollow\\\\\": 2}, \\\\\"dofollow_percent\\\\\": 100.0, \\\\\"postion\\\\\": {\\\\\"body\\\\\": 2}, \\\\\"anchor_type\\\\\": {\\\\\"text\\\\\": 2}, \\\\\"countries\\\\\": [{\\\\\"name\\\\\": \\\\\"Singapore\\\\\", \\\\\"code\\\\\": \\\\\"SG\\\\\", \\\\\"count\\\\\": 1}, {\\\\\"name\\\\\": \\\\\"United States\\\\\", \\\\\"code\\\\\": \\\\\"US\\\\\", \\\\\"count\\\\\": 1}], \\\\\"referring_domains_count\\\\\": 2, \\\\\"referring_ips_count\\\\\": 2, \\\\\"anchor_text\\\\\": \\\\\"\\\\\\\\n\\\\\\\\t\\\\\\\\t\\\\\\\\t\\\\\\\\t\\\\\\\\t\\\\\\\\t\\\\\\\\t\\\\\\\\t\\\\\\\\t\\\\\\\\tquantamixsolutions.com/\\\\\\\\n\\\\\\\\t\\\\\\\\t\\\\\\\\t\\\\\\\\t\\\\\\\\t\\\\\\\\t\\\\\\\\t\\\\\\\\t\\\\\\\\t A Guide to Top 10 AI tools and techniques in SEO for Digital Marketing | Quantamix Solutions\\\\\"}\"'"
            ]
          },
          "metadata": {
            "tags": []
          },
          "execution_count": 77
        }
      ]
    },
    {
      "cell_type": "code",
      "metadata": {
        "id": "1irk77EelKxN",
        "colab_type": "code",
        "colab": {}
      },
      "source": [
        "# add referring domain feature\n",
        "backlinks_df['refer_domain'] = backlinks_df['backlink'].apply(lambda x: urlparse(x).netloc)"
      ],
      "execution_count": 58,
      "outputs": []
    },
    {
      "cell_type": "code",
      "metadata": {
        "id": "o6VaVdUdupMm",
        "colab_type": "code",
        "colab": {
          "base_uri": "https://localhost:8080/",
          "height": 35
        },
        "outputId": "5b4c6d60-ffbf-48bc-d3f4-bab5cc79cf4d"
      },
      "source": [
        "# get the count of alive backlinks\n",
        "alive_backlinks = backlinks_df[backlinks_df['is_exist'] == True]\n",
        "backlinks_count = alive_backlinks['backlink'].count()\n",
        "backlinks_count"
      ],
      "execution_count": 59,
      "outputs": [
        {
          "output_type": "execute_result",
          "data": {
            "text/plain": [
              "2"
            ]
          },
          "metadata": {
            "tags": []
          },
          "execution_count": 59
        }
      ]
    },
    {
      "cell_type": "code",
      "metadata": {
        "id": "dVHtoGkummnq",
        "colab_type": "code",
        "colab": {
          "base_uri": "https://localhost:8080/",
          "height": 35
        },
        "outputId": "5b78cf59-fbec-496b-b894-2fdf751167ec"
      },
      "source": [
        "# get the count of unique referring domains\n",
        "referring_domains_count = alive_backlinks['refer_domain'].unique().size\n",
        "referring_domains_count"
      ],
      "execution_count": 60,
      "outputs": [
        {
          "output_type": "execute_result",
          "data": {
            "text/plain": [
              "2"
            ]
          },
          "metadata": {
            "tags": []
          },
          "execution_count": 60
        }
      ]
    },
    {
      "cell_type": "code",
      "metadata": {
        "id": "Is_BO-F0n_6p",
        "colab_type": "code",
        "colab": {
          "base_uri": "https://localhost:8080/",
          "height": 35
        },
        "outputId": "f16d1cb4-fd57-4e0e-d6d2-15c9c5072933"
      },
      "source": [
        "# get the count of unique referring IPs\n",
        "referring_ips_count = alive_backlinks['ip'].unique().size\n",
        "referring_ips_count"
      ],
      "execution_count": 61,
      "outputs": [
        {
          "output_type": "execute_result",
          "data": {
            "text/plain": [
              "2"
            ]
          },
          "metadata": {
            "tags": []
          },
          "execution_count": 61
        }
      ]
    },
    {
      "cell_type": "code",
      "metadata": {
        "id": "_xNWLbsvwqgx",
        "colab_type": "code",
        "colab": {
          "base_uri": "https://localhost:8080/",
          "height": 35
        },
        "outputId": "50608632-1d79-4039-a4e8-a2ad7243f85c"
      },
      "source": [
        "# get backlinks opportunities count\n",
        "opportunities_count = backlinks_df.shape[0] - backlinks_count\n",
        "opportunities_count"
      ],
      "execution_count": 62,
      "outputs": [
        {
          "output_type": "execute_result",
          "data": {
            "text/plain": [
              "18"
            ]
          },
          "metadata": {
            "tags": []
          },
          "execution_count": 62
        }
      ]
    },
    {
      "cell_type": "code",
      "metadata": {
        "id": "Yf5QdyRlxvLo",
        "colab_type": "code",
        "colab": {
          "base_uri": "https://localhost:8080/",
          "height": 35
        },
        "outputId": "c390571b-5a4b-486b-c295-6035f30a123a"
      },
      "source": [
        "# get status_code counts\n",
        "status_code = alive_backlinks['status_code'].value_counts().to_dict()\n",
        "status_code"
      ],
      "execution_count": 63,
      "outputs": [
        {
          "output_type": "execute_result",
          "data": {
            "text/plain": [
              "{200: 2}"
            ]
          },
          "metadata": {
            "tags": []
          },
          "execution_count": 63
        }
      ]
    },
    {
      "cell_type": "code",
      "metadata": {
        "id": "IMxD_W3y0RZz",
        "colab_type": "code",
        "colab": {
          "base_uri": "https://localhost:8080/",
          "height": 264
        },
        "outputId": "23b1db19-b9c6-43c4-9502-07244ff0b903"
      },
      "source": [
        "alive_backlinks['status_code'].value_counts().plot(kind='pie')\n",
        "plt.axis('off')\n",
        "plt.title('Backlinks HTTP status codes');"
      ],
      "execution_count": null,
      "outputs": [
        {
          "output_type": "display_data",
          "data": {
            "image/png": "[encoded data removed]",
            "text/plain": [
              "<Figure size 432x288 with 1 Axes>"
            ]
          },
          "metadata": {
            "tags": []
          }
        }
      ]
    },
    {
      "cell_type": "code",
      "metadata": {
        "id": "913RW8aT0nsz",
        "colab_type": "code",
        "colab": {
          "base_uri": "https://localhost:8080/",
          "height": 35
        },
        "outputId": "dfb09611-546a-4a2a-c2d6-4067921f0e7b"
      },
      "source": [
        "link_type = alive_backlinks['is_doFollow'].value_counts().rename(index={True: \"DoFollow\",False : \"NoFollow\"})\n",
        "follow_type = link_type.to_dict()\n",
        "follow_type"
      ],
      "execution_count": null,
      "outputs": [
        {
          "output_type": "execute_result",
          "data": {
            "text/plain": [
              "{'DoFollow': 2}"
            ]
          },
          "metadata": {
            "tags": []
          },
          "execution_count": 127
        }
      ]
    },
    {
      "cell_type": "code",
      "metadata": {
        "id": "oRJAkHhlQMg-",
        "colab_type": "code",
        "colab": {
          "base_uri": "https://localhost:8080/",
          "height": 35
        },
        "outputId": "d8cb8662-6903-478d-f394-8d66b7735153"
      },
      "source": [
        "# compute dofollow percentage\n",
        "dofollow_percent = link_type['DoFollow'] / backlinks_count * 100\n",
        "dofollow_percent"
      ],
      "execution_count": null,
      "outputs": [
        {
          "output_type": "execute_result",
          "data": {
            "text/plain": [
              "100.0"
            ]
          },
          "metadata": {
            "tags": []
          },
          "execution_count": 128
        }
      ]
    },
    {
      "cell_type": "code",
      "metadata": {
        "id": "5LnFTTPr0oBS",
        "colab_type": "code",
        "colab": {
          "base_uri": "https://localhost:8080/",
          "height": 264
        },
        "outputId": "2e5a7cf2-4fd2-43ab-85e8-d0a6a16d8ce4"
      },
      "source": [
        "link_type.plot(kind='pie')\n",
        "plt.axis('off')\n",
        "plt.title('DoFollow vs NoFollow');"
      ],
      "execution_count": null,
      "outputs": [
        {
          "output_type": "display_data",
          "data": {
            "image/png": "[encoded data removed]",
            "text/plain": [
              "<Figure size 432x288 with 1 Axes>"
            ]
          },
          "metadata": {
            "tags": []
          }
        }
      ]
    },
    {
      "cell_type": "code",
      "metadata": {
        "id": "sUxFOY6u0oKi",
        "colab_type": "code",
        "colab": {}
      },
      "source": [
        "# find top pages in your site (ordered by their popularity to get backlinks)\n",
        "top_pages = alive_backlinks['target_url'].value_counts().index.tolist()"
      ],
      "execution_count": null,
      "outputs": []
    },
    {
      "cell_type": "code",
      "metadata": {
        "id": "Ax1zvORM0oPc",
        "colab_type": "code",
        "colab": {
          "base_uri": "https://localhost:8080/",
          "height": 111
        },
        "outputId": "a174815a-57d9-4d2b-bd80-33c07d177dc6"
      },
      "source": [
        "# render top pages table\n",
        "top_pages_series = pd.Series(top_pages)\n",
        "top_pages_df = pd.DataFrame({'Rank':top_pages_series.index+1,'Page URL': top_pages_series})\n",
        "IPython.display.HTML(top_pages_df.to_html(index=False))"
      ],
      "execution_count": null,
      "outputs": [
        {
          "output_type": "execute_result",
          "data": {
            "text/html": [
              "<table border=\"1\" class=\"dataframe\">\n",
              "  <thead>\n",
              "    <tr style=\"text-align: right;\">\n",
              "      <th>Rank</th>\n",
              "      <th>Page URL</th>\n",
              "    </tr>\n",
              "  </thead>\n",
              "  <tbody>\n",
              "    <tr>\n",
              "      <td>1</td>\n",
              "      <td>https://quantamixsolutions.com/</td>\n",
              "    </tr>\n",
              "    <tr>\n",
              "      <td>2</td>\n",
              "      <td>https://quantamixsolutions.com/blog/40/ai-tools-and-techniques-in-seo-for-affiliate-marketing</td>\n",
              "    </tr>\n",
              "  </tbody>\n",
              "</table>"
            ],
            "text/plain": [
              "<IPython.core.display.HTML object>"
            ]
          },
          "metadata": {
            "tags": []
          },
          "execution_count": 75
        }
      ]
    },
    {
      "cell_type": "code",
      "metadata": {
        "id": "xuRIdCZr0oVK",
        "colab_type": "code",
        "colab": {
          "base_uri": "https://localhost:8080/",
          "height": 35
        },
        "outputId": "5b567016-ce48-42d2-d2db-74218288ef5c"
      },
      "source": [
        "# postion of the backlinks\n",
        "postion = alive_backlinks['position'].value_counts().to_dict()\n",
        "postion"
      ],
      "execution_count": null,
      "outputs": [
        {
          "output_type": "execute_result",
          "data": {
            "text/plain": [
              "{'body': 2}"
            ]
          },
          "metadata": {
            "tags": []
          },
          "execution_count": 79
        }
      ]
    },
    {
      "cell_type": "code",
      "metadata": {
        "id": "SpS2tG23DM2K",
        "colab_type": "code",
        "colab": {
          "base_uri": "https://localhost:8080/",
          "height": 281
        },
        "outputId": "fac36ef5-bc6d-4dde-daec-4f0db093182e"
      },
      "source": [
        "# backlinks position graph\n",
        "alive_backlinks['position'].value_counts().plot(kind='bar')\n",
        "plt.xticks(rotation=0)\n",
        "plt.title('Backlinks postion');"
      ],
      "execution_count": null,
      "outputs": [
        {
          "output_type": "display_data",
          "data": {
            "image/png": "[encoded data removed]",
            "text/plain": [
              "<Figure size 432x288 with 1 Axes>"
            ]
          },
          "metadata": {
            "tags": [],
            "needs_background": "light"
          }
        }
      ]
    },
    {
      "cell_type": "code",
      "metadata": {
        "id": "7cvVPjtTDM6C",
        "colab_type": "code",
        "colab": {
          "base_uri": "https://localhost:8080/",
          "height": 214
        },
        "outputId": "29dfa977-346c-4b10-f9e4-892e30913377"
      },
      "source": [
        "# anchor text cloud graph\n",
        "# use anychart tag cloud at front end @https://docs.anychart.com/Basic_Charts/Tag_Cloud\n",
        "# create text\n",
        "text = \" \".join(term for term in alive_backlinks.anchor_text)\n",
        "# Create stopword list:\n",
        "stopwords = set(STOPWORDS)\n",
        "# Generate a word cloud image\n",
        "wordcloud = WordCloud(stopwords=stopwords, background_color=\"white\").generate(text)\n",
        "# Display the generated image using matplotlib way\n",
        "plt.imshow(wordcloud, interpolation='bilinear')\n",
        "plt.axis(\"off\")\n",
        "plt.title('Top Anchors')\n",
        "plt.show()"
      ],
      "execution_count": null,
      "outputs": [
        {
          "output_type": "display_data",
          "data": {
            "image/png": "[encoded data removed]",
            "text/plain": [
              "<Figure size 432x288 with 1 Axes>"
            ]
          },
          "metadata": {
            "tags": [],
            "needs_background": "light"
          }
        }
      ]
    },
    {
      "cell_type": "code",
      "metadata": {
        "id": "k4gIbDKnx5ud",
        "colab_type": "code",
        "colab": {
          "base_uri": "https://localhost:8080/",
          "height": 53
        },
        "outputId": "f0328319-a7b6-46a4-8619-15a2aac35510"
      },
      "source": [
        "# create text for anychart tag cloud\n",
        "# Create stopword list:\n",
        "stopwords = set(STOPWORDS)\n",
        "# create text\n",
        "text = \" \".join(term for term in alive_backlinks.anchor_text if term not in stopwords)\n",
        "text"
      ],
      "execution_count": null,
      "outputs": [
        {
          "output_type": "execute_result",
          "data": {
            "application/vnd.google.colaboratory.intrinsic+json": {
              "type": "string"
            },
            "text/plain": [
              "'\\n\\t\\t\\t\\t\\t\\t\\t\\t\\t\\tquantamixsolutions.com/\\n\\t\\t\\t\\t\\t\\t\\t\\t\\t A Guide to Top 10 AI tools and techniques in SEO for Digital Marketing | Quantamix Solutions'"
            ]
          },
          "metadata": {
            "tags": []
          },
          "execution_count": 19
        }
      ]
    },
    {
      "cell_type": "code",
      "metadata": {
        "id": "ftlQaNTfDM_4",
        "colab_type": "code",
        "colab": {
          "base_uri": "https://localhost:8080/",
          "height": 35
        },
        "outputId": "8f9ce33b-3e8e-40b5-92d4-d8b7970d469b"
      },
      "source": [
        "# anchor types of backlinks\n",
        "anchor_type = alive_backlinks['anchor_type'].value_counts().to_dict()\n",
        "anchor_type"
      ],
      "execution_count": null,
      "outputs": [
        {
          "output_type": "execute_result",
          "data": {
            "text/plain": [
              "{'text': 2}"
            ]
          },
          "metadata": {
            "tags": []
          },
          "execution_count": 101
        }
      ]
    },
    {
      "cell_type": "code",
      "metadata": {
        "id": "Z4OhH370Chs7",
        "colab_type": "code",
        "colab": {
          "base_uri": "https://localhost:8080/",
          "height": 264
        },
        "outputId": "98d87767-91db-4ab9-f271-9433b2222bbe"
      },
      "source": [
        "# anchor types graph\n",
        "alive_backlinks['anchor_type'].value_counts().plot(kind='pie')\n",
        "plt.axis('off')\n",
        "plt.title('Anchor types');"
      ],
      "execution_count": null,
      "outputs": [
        {
          "output_type": "display_data",
          "data": {
            "image/png": "[encoded data removed]",
            "text/plain": [
              "<Figure size 432x288 with 1 Axes>"
            ]
          },
          "metadata": {
            "tags": []
          }
        }
      ]
    },
    {
      "cell_type": "code",
      "metadata": {
        "id": "si3QWsSDCh5O",
        "colab_type": "code",
        "colab": {
          "base_uri": "https://localhost:8080/",
          "height": 35
        },
        "outputId": "30a90cec-4108-4e5a-d603-dbbca29bb876"
      },
      "source": [
        "# countries of backlinks\n",
        "countries = alive_backlinks['countryCode'].value_counts().to_dict()\n",
        "countries"
      ],
      "execution_count": null,
      "outputs": [
        {
          "output_type": "execute_result",
          "data": {
            "text/plain": [
              "{'SG': 1, 'US': 1}"
            ]
          },
          "metadata": {
            "tags": []
          },
          "execution_count": 116
        }
      ]
    },
    {
      "cell_type": "code",
      "metadata": {
        "id": "HzcGu1McSW5Z",
        "colab_type": "code",
        "colab": {
          "base_uri": "https://localhost:8080/",
          "height": 35
        },
        "outputId": "45b4a17a-df6f-4d0f-a255-384a1e90f35c"
      },
      "source": [
        "# get full names of the countries\n",
        "countries_names = {}\n",
        "for country in countries:\n",
        "  countries_names[country] = alive_backlinks[alive_backlinks['countryCode'] == country]['country'].iloc[0]\n",
        "countries_names"
      ],
      "execution_count": null,
      "outputs": [
        {
          "output_type": "execute_result",
          "data": {
            "text/plain": [
              "{'SG': 'Singapore', 'US': 'United States'}"
            ]
          },
          "metadata": {
            "tags": []
          },
          "execution_count": 119
        }
      ]
    },
    {
      "cell_type": "code",
      "metadata": {
        "id": "8RjrXwUj0oc4",
        "colab_type": "code",
        "colab": {
          "base_uri": "https://localhost:8080/",
          "height": 281
        },
        "outputId": "2ac25404-3349-4471-878f-c98327b381e9"
      },
      "source": [
        "# countries graph\n",
        "alive_backlinks['countryCode'].value_counts().plot(kind='bar')\n",
        "plt.xticks(rotation=0)\n",
        "plt.title('Countries of Backlinks');"
      ],
      "execution_count": null,
      "outputs": [
        {
          "output_type": "display_data",
          "data": {
            "image/png": "[encoded data removed]",
            "text/plain": [
              "<Figure size 432x288 with 1 Axes>"
            ]
          },
          "metadata": {
            "tags": [],
            "needs_background": "light"
          }
        }
      ]
    },
    {
      "cell_type": "code",
      "metadata": {
        "id": "SR674-qp0ons",
        "colab_type": "code",
        "colab": {}
      },
      "source": [
        "# !!! cells bellow are from the older version of this analyer"
      ],
      "execution_count": null,
      "outputs": []
    },
    {
      "cell_type": "code",
      "metadata": {
        "id": "Pw0xMrF4V9ox",
        "colab_type": "code",
        "colab": {}
      },
      "source": [
        "backlink = \"https://ahrefs.com/blog/nofollow-links/\"\n",
        "targetLink = \"https://en.wikipedia.org/wiki/Nofollow#Interpretation_by_the_individual_search_engines\"\n",
        "\n",
        "domain = urlparse(targetLink).netloc\n",
        "backlinkDomain = urlparse(backlink).netloc\n",
        "\n",
        "page = requests.get(backlink)\n",
        "soup = BeautifulSoup(page.text, 'html.parser')\n",
        "\n",
        "# backlink metrics dictionary\n",
        "metrics = {}\n",
        "metrics['status_code'] = page.status_code\n"
      ],
      "execution_count": null,
      "outputs": []
    },
    {
      "cell_type": "code",
      "metadata": {
        "id": "ToE3UiTJbEPP",
        "colab_type": "code",
        "colab": {}
      },
      "source": [
        "# Do follow vs no follow\n",
        "# check for X-Robots-Tag and robots meta tag\n",
        "xrobots = page.headers.get('X-Robots-Tag')\n",
        "metaRobots = soup.find('meta',  attrs={'name':'robots', 'content':True})\n",
        "default_follow = True\n",
        "if xrobots:  \n",
        "  if \"nofollow\" in xrobots or \"none\" in xrobots :\n",
        "    default_follow = False\n",
        "if metaRobots:\n",
        "  if \"nofollow\" in metaRobots[\"content\"] or \"none\" in metaRobots[\"content\"]:\n",
        "    default_follow = False\n",
        "\n",
        "metrics['is_doFollow'] = default_follow\n",
        "\n",
        "# loop through links\n",
        "metrics['is_exist'] = False\n",
        "externalCounter = 0\n",
        "for link in soup.find_all('a'):\n",
        "  if link.get(\"href\", None) == \"\" or link.get(\"href\", None) is None:\n",
        "    # href empty tag\n",
        "    continue\n",
        "  # count external links\n",
        "  if backlinkDomain not in link.get(\"href\", None):\n",
        "    externalCounter+=1\n",
        "  # if target domain exist\n",
        "  if domain in link.get(\"href\", None):\n",
        "    metrics['is_exist'] = True\n",
        "    metrics['position'] = 'body'\n",
        "    metrics['anchor_text'] = link.string\n",
        "    metrics['anchor_type'] = \"text\"\n",
        "    if link.find('img'):\n",
        "      metrics['anchor_type'] = \"image\"\n",
        "    if link.get(\"rel\",None) == \"nofollow\":\n",
        "      metrics['is_doFollow'] = False\n",
        "    if link.find_parent('footer'):\n",
        "      metrics['position'] = 'footer'\n",
        "    if link.find_parent('header'):\n",
        "      metrics['position'] = 'header'\n",
        "# add external links count\n",
        "metrics['externalLinks'] = externalCounter\n",
        "metrics['hasManyBacklinks'] = externalCounter > 200\n",
        "# get Ipv4 address\n",
        "metrics['ip'] = socket.gethostbyname(backlinkDomain)\n"
      ],
      "execution_count": null,
      "outputs": []
    },
    {
      "cell_type": "code",
      "metadata": {
        "id": "qv7biEwb2kDo",
        "colab_type": "code",
        "colab": {}
      },
      "source": [
        "# get country from ip using  maxmind geoip2 @ https://github.com/maxmind/GeoIP2-python\n",
        "\n",
        "# !!! note you have to download GeoLite2-Country database\n",
        "\n",
        "# This creates a Reader object. You should use the same object\n",
        "# across multiple requests as creation of it is expensive.\n",
        "reader = geoip2.database.Reader('GeoLite2-Country.mmdb')\n",
        "# Replace \"city\" with the method corresponding to the database\n",
        "# that you are using, e.g., \"country\".\n",
        "response = reader.country(metrics['ip'])\n",
        "metrics['countryCode'] = response.country.iso_code\n",
        "metrics['country'] = response.country.name\n",
        "\n",
        "# is IP address from spam-heavy countries like Russia, China or India ?\n",
        "metrics['from_spam_heavy_country'] = False\n",
        "if metrics['country'] == \"Russia\" or metrics['country'] == \"China\" or metrics['country'] == \"India\":\n",
        "  metrics['from_spam_heavy_country'] = True"
      ],
      "execution_count": null,
      "outputs": []
    },
    {
      "cell_type": "code",
      "metadata": {
        "id": "yvyppopy8Djv",
        "colab_type": "code",
        "colab": {}
      },
      "source": [
        "# is it from high authority site ? we can use either openpagerank or mozscape api\n",
        "openprAPIKey = \"so8gc48ccg8kkw04cwo04s4gcck4g8s0ck4s000k\"\n",
        "openPR = requests.get(\"https://openpagerank.com/api/v1.0/getPageRank\", params={'domains[]': domain},headers={\"API-OPR\":openprAPIKey})\n",
        "\n",
        "# convert the response \n",
        "pr = json.loads(openPR.text)\n",
        "\n",
        "metrics['rank'] = pr['response'][0]['rank']\n",
        "metrics['pagerank'] = pr['response'][0]['page_rank_decimal']"
      ],
      "execution_count": null,
      "outputs": []
    },
    {
      "cell_type": "code",
      "metadata": {
        "id": "9uuv5BA51ux_",
        "colab_type": "code",
        "colab": {}
      },
      "source": [
        "# alexa and traffic estimation\n",
        "alexa = requests.get(\"http://data.alexa.com/data?cli=10&url=\"+domain)\n",
        "soup = BeautifulSoup(alexa.text,'xml')\n",
        "popularity = soup.find(\"POPULARITY\")\n",
        "reach = soup.find(\"REACH\")\n",
        "rank = soup.find(\"COUNTRY\")\n",
        "if popularity:\n",
        "  metrics['AlexaTrafficRank'] =  popularity.get(\"TEXT\",None)\n",
        "if reach:\n",
        "  metrics['AlexaReach'] = reach.get(\"RANK\",None)\n",
        "if rank:\n",
        "  metrics['AlexaRank'] = rank.get(\"RANK\",None)\n",
        "  metrics['AlexaRankCountry'] = rank.get(\"NAME\",None)\n",
        "  metrics['AlexaRankCountryCode'] = rank.get(\"CODE\",None)  "
      ],
      "execution_count": null,
      "outputs": []
    },
    {
      "cell_type": "markdown",
      "metadata": {
        "id": "Do48joD3IOX8",
        "colab_type": "text"
      },
      "source": [
        "Alexa API response"
      ]
    },
    {
      "cell_type": "code",
      "metadata": {
        "id": "1hgX6BGN2KET",
        "colab_type": "code",
        "colab": {
          "base_uri": "https://localhost:8080/",
          "height": 71
        },
        "outputId": "b252ecc2-89c0-4272-a92d-1a23953044e6"
      },
      "source": [
        "alexa.text"
      ],
      "execution_count": null,
      "outputs": [
        {
          "output_type": "execute_result",
          "data": {
            "application/vnd.google.colaboratory.intrinsic": {
              "type": "string"
            },
            "text/plain": [
              "'<?xml version=\"1.0\" encoding=\"UTF-8\"?>\\r\\n\\r\\n<!-- Need more Alexa data?  Find our APIs here: https://aws.amazon.com/alexa/ -->\\r\\n<ALEXA VER=\"0.9\" URL=\"en.wikipedia.org/\" HOME=\"0\" AID=\"=\" IDN=\"en.wikipedia.org/\">\\r\\n<SD><POPULARITY URL=\"wikipedia.org/\" TEXT=\"13\" SOURCE=\"panel\"/><REACH RANK=\"11\"/><RANK DELTA=\"+0\"/><COUNTRY CODE=\"US\" NAME=\"United States\" RANK=\"8\"/></SD></ALEXA>'"
            ]
          },
          "metadata": {
            "tags": []
          },
          "execution_count": 24
        }
      ]
    },
    {
      "cell_type": "markdown",
      "metadata": {
        "id": "JTJMdLkvIXHH",
        "colab_type": "text"
      },
      "source": [
        "Domcop API resoponse"
      ]
    },
    {
      "cell_type": "code",
      "metadata": {
        "id": "Y03df-vGCAVQ",
        "colab_type": "code",
        "colab": {
          "base_uri": "https://localhost:8080/",
          "height": 161
        },
        "outputId": "72e0aa4e-27ed-43c0-e5e3-caa81488a3ca"
      },
      "source": [
        "pr"
      ],
      "execution_count": null,
      "outputs": [
        {
          "output_type": "execute_result",
          "data": {
            "text/plain": [
              "{'last_updated': '18th Jun 2020',\n",
              " 'response': [{'domain': 'en.wikipedia.org',\n",
              "   'error': '',\n",
              "   'page_rank_decimal': 9.54,\n",
              "   'page_rank_integer': 10,\n",
              "   'rank': '16',\n",
              "   'status_code': 200}],\n",
              " 'status_code': 200}"
            ]
          },
          "metadata": {
            "tags": []
          },
          "execution_count": 25
        }
      ]
    },
    {
      "cell_type": "markdown",
      "metadata": {
        "id": "pw6uu21vImJJ",
        "colab_type": "text"
      },
      "source": [
        "**Final output**"
      ]
    },
    {
      "cell_type": "code",
      "metadata": {
        "id": "va-CyuJ9g07F",
        "colab_type": "code",
        "colab": {
          "base_uri": "https://localhost:8080/",
          "height": 359
        },
        "outputId": "58a537e4-527c-4097-d7f5-b13ea28772ed"
      },
      "source": [
        "metrics"
      ],
      "execution_count": null,
      "outputs": [
        {
          "output_type": "execute_result",
          "data": {
            "text/plain": [
              "{'AlexaRank': '8',\n",
              " 'AlexaRankCountry': 'United States',\n",
              " 'AlexaRankCountryCode': 'US',\n",
              " 'AlexaReach': '11',\n",
              " 'AlexaTrafficRank': '13',\n",
              " 'anchor_text': 'Here’s a table',\n",
              " 'anchor_type': 'text',\n",
              " 'country': 'France',\n",
              " 'countryCode': 'FR',\n",
              " 'externalLinks': 30,\n",
              " 'from_spam_heavy_country': False,\n",
              " 'hasManyBacklinks': False,\n",
              " 'ip': '151.80.39.61',\n",
              " 'is_doFollow': True,\n",
              " 'is_exist': True,\n",
              " 'pagerank': 9.54,\n",
              " 'position': 'body',\n",
              " 'rank': '16',\n",
              " 'status_code': 200}"
            ]
          },
          "metadata": {
            "tags": []
          },
          "execution_count": 26
        }
      ]
    },
    {
      "cell_type": "markdown",
      "metadata": {
        "id": "uUHFGRMUGzUN",
        "colab_type": "text"
      },
      "source": [
        "**TODO**\n",
        "\n",
        "\n",
        "*   Is it a unique domain? (Conducted on profile level)\n",
        "*   Do a lot of your links come from the same IP address? (Conducted on profile level)\n"
      ]
    }
  ]
}